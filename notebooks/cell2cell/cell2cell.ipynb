{
 "cells": [
  {
   "cell_type": "code",
   "execution_count": 2,
   "metadata": {},
   "outputs": [],
   "source": [
    "import pandas as pd\n",
    "\n",
    "# Load the datasets\n",
    "holdout_df = pd.read_csv('cell2cellholdout.csv')\n",
    "train_df = pd.read_csv('cell2celltrain.csv')\n",
    "\n",
    "# Merge the datasets\n",
    "merged_df = pd.concat([holdout_df, train_df], ignore_index=True)\n",
    "\n",
    "# Save the merged dataset\n",
    "merged_df.to_csv('cell2cell.csv', index=False)"
   ]
  }
 ],
 "metadata": {
  "kernelspec": {
   "display_name": "Python 3",
   "language": "python",
   "name": "python3"
  },
  "language_info": {
   "codemirror_mode": {
    "name": "ipython",
    "version": 3
   },
   "file_extension": ".py",
   "mimetype": "text/x-python",
   "name": "python",
   "nbconvert_exporter": "python",
   "pygments_lexer": "ipython3",
   "version": "3.10.0"
  }
 },
 "nbformat": 4,
 "nbformat_minor": 2
}
